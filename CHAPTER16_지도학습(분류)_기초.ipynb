{
  "nbformat": 4,
  "nbformat_minor": 0,
  "metadata": {
    "colab": {
      "provenance": []
    },
    "kernelspec": {
      "name": "python3",
      "display_name": "Python 3"
    },
    "language_info": {
      "name": "python"
    }
  },
  "cells": [
    {
      "cell_type": "markdown",
      "source": [
        "# CHAPTER16 지도학습(분류) 기초"
      ],
      "metadata": {
        "id": "ah-OizXUIcpH"
      }
    },
    {
      "cell_type": "markdown",
      "source": [
        "## 16.1 지도학습(분류) 알아보기"
      ],
      "metadata": {
        "id": "TToQn7c_IfKt"
      }
    },
    {
      "cell_type": "markdown",
      "source": [
        "### 16.1.1 분류란\n",
        "\n",
        "- 지도학습에는 회귀, 분류로 나누어진다\n"
      ],
      "metadata": {
        "id": "eAsBmVU-Iksx"
      }
    },
    {
      "cell_type": "markdown",
      "source": [
        "### 16.1.2 이항분류와 다항분류\n",
        "\n",
        "- 이항분류 : 분류할 클래스가 두개. \n",
        "- 다항 분류 : 분류할 클래스가 세 개이상."
      ],
      "metadata": {
        "id": "W5YSqQTELwqw"
      }
    },
    {
      "cell_type": "markdown",
      "source": [
        "### 16.1.3 분류의 흐름\n",
        "\n",
        "1. 데이터 전처리 - 데이터 가공, 수정\n",
        "2. 학습 모델 선택 \n",
        "3. 모델 학습 - 하이퍼파라미터 선택 및 튜닝\n",
        "4. 모델 예측(추정) - 미지의 데이터로 모델 검증"
      ],
      "metadata": {
        "id": "wgR7IcuiMPC8"
      }
    },
    {
      "cell_type": "markdown",
      "source": [
        "### 16.1.4 데이터 준비하기"
      ],
      "metadata": {
        "id": "GFY4nr5sMflE"
      }
    },
    {
      "cell_type": "code",
      "execution_count": 2,
      "metadata": {
        "colab": {
          "base_uri": "https://localhost:8080/",
          "height": 265
        },
        "id": "KCFyNlKbH96X",
        "outputId": "8a6d4f3d-d7d0-4873-c6b4-d1e58ba85e6f"
      },
      "outputs": [
        {
          "output_type": "display_data",
          "data": {
            "text/plain": [
              "<Figure size 432x288 with 1 Axes>"
            ],
            "image/png": "[encoded data removed]"
          },
          "metadata": {
            "needs_background": "light"
          }
        }
      ],
      "source": [
        "from sklearn.datasets import make_classification\n",
        "import matplotlib.pyplot as plt\n",
        "import matplotlib\n",
        "\n",
        "X,y = make_classification(n_samples=50, n_features=2,n_redundant=0, random_state=0)\n",
        "\n",
        "plt.scatter(X[:,0], X[:,1], c=y, marker='.', cmap=matplotlib.cm.get_cmap(name='bwr'), alpha=0.7)\n",
        "plt.grid(True)\n",
        "plt.show()"
      ]
    },
    {
      "cell_type": "markdown",
      "source": [
        "### 16.1.5 학습과 예측"
      ],
      "metadata": {
        "id": "LiQRLw0cO1so"
      }
    },
    {
      "cell_type": "code",
      "source": [
        "X, y = make_classification(n_samples=100, n_features=2, n_redundant=0, random_state=42)\n",
        "\n",
        "# 데이터를 학습용과 평가용으로 나누기\n",
        "train_X, test_X, train_y, test_y = train_test_split(X, y, random_state=42)\n",
        "\n",
        "# 모델을 구축\n",
        "model = LogisticRegression(random_state=42)\n",
        "\n",
        "# train_X와 train_y로 모델을 학습\n",
        "model.fit(train_X, train_y)\n",
        "\n",
        "# test_X에 대한 모델의 분류 예측 결과\n",
        "pred_y = model.predict(test_X)\n",
        "print(pred_y)"
      ],
      "metadata": {
        "colab": {
          "base_uri": "https://localhost:8080/"
        },
        "id": "buYOnDlAOaFP",
        "outputId": "789cb89d-2ce7-4cc6-c775-691382d063d6"
      },
      "execution_count": 21,
      "outputs": [
        {
          "output_type": "stream",
          "name": "stdout",
          "text": [
            "[0 1 1 0 1 0 0 0 1 1 1 0 1 0 0 1 1 1 0 0 0 0 1 0 1]\n"
          ]
        }
      ]
    },
    {
      "cell_type": "code",
      "source": [],
      "metadata": {
        "id": "emDvS-TxS8QO"
      },
      "execution_count": null,
      "outputs": []
    },
    {
      "cell_type": "markdown",
      "source": [
        "## 16.2 주요 기법 소개"
      ],
      "metadata": {
        "id": "zdbt5SCEP6KJ"
      }
    },
    {
      "cell_type": "markdown",
      "source": [
        "### 16.2.1 로지스틱 회귀\n",
        "\n",
        "- 직선으로 데이터의 카테고리를 그룹으로 나눌 수 있는 데이터를 선형 분리 가능한 데이터라 한다\n",
        "- 로지스틱 회귀는 선형 분리 가능한 데이터의 경계선을 학습을 통해 찾고 데이터를 분류하는 방법\n",
        "- 경계선이 직선이라는 특징때문에 이항 분류에 사용된다\n",
        "- 데이터가 클래스로 분류될 확률을 계산하는 것도 가능하다\n",
        "- 단점에는 데이터가 선형분리되지 않으면 분류할 수 없으며 일반화 능력이 낮은 것 등이 존재한다"
      ],
      "metadata": {
        "id": "Kfp8vNugP8PX"
      }
    },
    {
      "cell_type": "code",
      "source": [
        "from sklearn.linear_model import LogisticRegression\n",
        "from sklearn.model_selection import train_test_split\n",
        "from sklearn.datasets import make_classification\n",
        "import numpy as np\n",
        "\n",
        "\n",
        "X,y = make_classification(n_samples=100, n_features=2,n_redundant=0, random_state=42)\n",
        "\n",
        "X_train, X_test, y_train, y_test = train_test_split(X,y, random_state=42)\n",
        "\n",
        "model = LogisticRegression(random_state=42)\n",
        "\n",
        "model.fit(X_train, y_train)\n",
        "\n",
        "y_pred = model.predict(X_test)\n",
        "\n",
        "\n",
        "plt.scatter(X[:,0], X[:,1], c=y, marker='.', cmap=matplotlib.cm.get_cmap(name='bwr'), alpha=0.7)\n",
        "\n",
        "Xi = np.linspace(-10,10)\n",
        "Y = -model.coef_[0][0] / model.coef_[0][1] *  Xi - model.intercept_ / model.coef_[0][1]\n",
        "plt.plot(Xi,Y)\n",
        "\n",
        "plt.xlim(min(X[:,0]) - 0.5, max(X[:,0]) + 0.5)\n",
        "plt.ylim(min(X[:,1]) - 0.5, max(X[:,1]) + 0.5)\n",
        "plt.axes().set_aspect('equal', 'datalim')\n",
        "\n",
        "plt.xlabel('x-axis')\n",
        "plt.ylabel('y-axis')\n",
        "plt.show()"
      ],
      "metadata": {
        "colab": {
          "base_uri": "https://localhost:8080/",
          "height": 317
        },
        "id": "3beB5Z4ZPv9s",
        "outputId": "16b8542b-e78e-4923-e252-ea5d0e83ef45"
      },
      "execution_count": 4,
      "outputs": [
        {
          "output_type": "stream",
          "name": "stderr",
          "text": [
            "/usr/local/lib/python3.7/dist-packages/ipykernel_launcher.py:26: MatplotlibDeprecationWarning: Adding an axes using the same arguments as a previous axes currently reuses the earlier instance.  In a future version, a new instance will always be created and returned.  Meanwhile, this warning can be suppressed, and the future behavior ensured, by passing a unique label to each axes instance.\n"
          ]
        },
        {
          "output_type": "display_data",
          "data": {
            "text/plain": [
              "<Figure size 432x288 with 1 Axes>"
            ],
            "image/png": "[encoded data removed]"
          },
          "metadata": {
            "needs_background": "light"
          }
        }
      ]
    },
    {
      "cell_type": "markdown",
      "source": [
        "### 16.2.2 선형 SVM\n",
        "\n",
        "- 로지스틱 회귀처럼 데이터의 경계선을 찾아 데이터를 분류하는 방법\n",
        "- 서포트 벡터라는 주요 특징이 있다\n",
        "- 서포트 벡터 : 각 클래스의 경계선에 가장 가까이 있는 데이터 및 경계선의 거리(거리를 나타내는 벡터)\n",
        "- 이 서포트 벡터 거리 합을 최대화함으로 경계선을 결정한다"
      ],
      "metadata": {
        "id": "J97jmsHQcQWP"
      }
    },
    {
      "cell_type": "code",
      "source": [
        "from sklearn.svm import LinearSVC\n",
        "\n",
        "X,y = make_classification(n_samples=100, n_features=2,n_redundant=0, random_state=42)\n",
        "X_train, X_test, y_train, y_test = train_test_split(X,y, random_state=42)\n",
        "\n",
        "model = LinearSVC()\n",
        "\n",
        "model.fit(X_train, y_train)\n",
        "\n",
        "model.score(X_test, y_test)"
      ],
      "metadata": {
        "colab": {
          "base_uri": "https://localhost:8080/"
        },
        "id": "g7u8K_qSbgF_",
        "outputId": "26d6f76c-c9a0-4446-9123-f664360dfd0b"
      },
      "execution_count": 5,
      "outputs": [
        {
          "output_type": "execute_result",
          "data": {
            "text/plain": [
              "1.0"
            ]
          },
          "metadata": {},
          "execution_count": 5
        }
      ]
    },
    {
      "cell_type": "code",
      "source": [
        "\n",
        "plt.scatter(X[:,0], X[:,1], c=y, marker='.', cmap=matplotlib.cm.get_cmap(name='bwr'), alpha=0.7)\n",
        "\n",
        "Xi = np.linspace(-10,10)\n",
        "Y = -model.coef_[0][0] / model.coef_[0][1] *  Xi - model.intercept_ / model.coef_[0][1]\n",
        "plt.plot(Xi,Y)\n",
        "\n",
        "plt.xlim(min(X[:,0]) - 0.5, max(X[:,0]) + 0.5)\n",
        "plt.ylim(min(X[:,1]) - 0.5, max(X[:,1]) + 0.5)\n",
        "plt.axes().set_aspect('equal', 'datalim')\n",
        "\n",
        "plt.xlabel('x-axis')\n",
        "plt.ylabel('y-axis')\n",
        "plt.show()"
      ],
      "metadata": {
        "colab": {
          "base_uri": "https://localhost:8080/",
          "height": 335
        },
        "id": "6N1QxgBdAs5-",
        "outputId": "4ad769bd-e504-4315-8756-5ba5696f7601"
      },
      "execution_count": 6,
      "outputs": [
        {
          "output_type": "stream",
          "name": "stderr",
          "text": [
            "/usr/local/lib/python3.7/dist-packages/ipykernel_launcher.py:9: MatplotlibDeprecationWarning: Adding an axes using the same arguments as a previous axes currently reuses the earlier instance.  In a future version, a new instance will always be created and returned.  Meanwhile, this warning can be suppressed, and the future behavior ensured, by passing a unique label to each axes instance.\n",
            "  if __name__ == '__main__':\n"
          ]
        },
        {
          "output_type": "display_data",
          "data": {
            "text/plain": [
              "<Figure size 432x288 with 1 Axes>"
            ],
            "image/png": "[encoded data removed]"
          },
          "metadata": {
            "needs_background": "light"
          }
        }
      ]
    },
    {
      "cell_type": "markdown",
      "source": [
        "### 16.2.3 비선형 SVM\n",
        "\n",
        "- 선형 SVM은 방향성을 세우기 쉽고 일반화하기도 좋은 모델이지만 입력 데이터가 선형 분리되지 않으면 사용할 수 없는 단점이 있다\n",
        "- 비선형 SVM은 이런 결점을 보완하고자 나온 모델이다"
      ],
      "metadata": {
        "id": "_ZjgQUW3BGCu"
      }
    },
    {
      "cell_type": "code",
      "source": [
        "from sklearn.datasets import make_gaussian_quantiles\n",
        "from sklearn.svm import SVC\n",
        "\n",
        "data, label = make_gaussian_quantiles(n_samples=1000, n_classes=2, n_features=2, random_state=42)\n",
        "X_train, X_test, y_train, y_test = train_test_split(data, label, random_state=42)\n",
        "\n",
        "model1 = SVC()\n",
        "model2 = LinearSVC()\n",
        "\n",
        "model1.fit(X_train, y_train)\n",
        "model2.fit(X_train, y_train)\n",
        "\n",
        "print(f'SCV Score : {model1.score(X_test, y_test)}')\n",
        "print(f'LinearSVC Score : {model2.score(X_test, y_test)}')"
      ],
      "metadata": {
        "colab": {
          "base_uri": "https://localhost:8080/"
        },
        "id": "x4gNwTpRA7s3",
        "outputId": "1570025f-9383-4a10-db73-3f86c6f9a105"
      },
      "execution_count": 11,
      "outputs": [
        {
          "output_type": "stream",
          "name": "stdout",
          "text": [
            "SCV Score : 0.976\n",
            "LinearSVC Score : 0.528\n"
          ]
        }
      ]
    },
    {
      "cell_type": "markdown",
      "source": [
        "### 16.2.4 결정 트리\n",
        "\n",
        "- 결정 트리는 로지스틱 회귀, SVM과 달리 데이터 요소(독립변수) 각각을 주목한다\n",
        "- 요소 내의 값을 경계로 데이터를 분할하여 데이터가 속하는 클래스를 결정하는 방법\n",
        "- 결정 트리에서는 각 독립변수가 종속변수에 얼마나 영향을 미치는지 볼 수 있다\n",
        "- 단점으로는 선형 분리 가능한 데이터를 받아들이기 힘든점, 학습이 지도 데이터에 치우치는 점(일반화되지않음) 등이 있다"
      ],
      "metadata": {
        "id": "ZMwYN4whCeJn"
      }
    },
    {
      "cell_type": "code",
      "source": [
        "from sklearn.tree import DecisionTreeClassifier\n",
        "\n",
        "data, label = make_classification(n_samples=100, n_classes=2, n_redundant=0, n_features=2, random_state=42)\n",
        "X_train, X_test, y_train, y_test = train_test_split(data, label, random_state=42)\n",
        "\n",
        "model = DecisionTreeClassifier()\n",
        "\n",
        "model.fit(X_train, y_train)\n",
        "\n",
        "model.score(X_test, y_test)"
      ],
      "metadata": {
        "colab": {
          "base_uri": "https://localhost:8080/"
        },
        "id": "dejzK0IcBwnT",
        "outputId": "9391a778-ad76-423e-e8a7-b1f0b8560e48"
      },
      "execution_count": 23,
      "outputs": [
        {
          "output_type": "execute_result",
          "data": {
            "text/plain": [
              "0.96"
            ]
          },
          "metadata": {},
          "execution_count": 23
        }
      ]
    },
    {
      "cell_type": "code",
      "source": [
        "import requests\n",
        "import zipfile\n",
        "from io import StringIO\n",
        "import io\n",
        "import pandas as pd\n",
        "\n",
        "# 데이터의 전처리에 필요한 패키지를 import\n",
        "from sklearn.model_selection import train_test_split\n",
        "from sklearn import preprocessing\n",
        "\n",
        "# url을 지정\n",
        "mush_data_url = \"https://archive.ics.uci.edu/ml/machine-learning-databases/mushroom/agaricus-lepiota.data\"\n",
        "s = requests.get(mush_data_url).content\n",
        "\n",
        "# 데이터 형식을 변환\n",
        "mush_data = pd.read_csv(io.StringIO(s.decode(\"utf-8\")), header=None)\n",
        "\n",
        "# 데이터에 이름을 붙이기(데이터를 쉽게 취급하기 위해)\n",
        "mush_data.columns = [\"classes\", \"cap_shape\", \"cap_surface\",\n",
        "                     \"cap_color\", \"odor\", \"bruises\",\n",
        "                     \"gill_attachment\", \"gill_spacing\",\n",
        "                     \"gill_size\", \"gill_color\", \"stalk_shape\",\n",
        "                     \"stalk_root\", \"stalk_surface_above_ring\",\n",
        "                     \"stalk_surface_below_ring\",\n",
        "                     \"stalk_color_above_ring\",\n",
        "                     \"stalk_color_below_ring\",\n",
        "                     \"veil_type\", \"veil_color\",\"ring_number\",\n",
        "                     \"ring_type\", \"spore_print_color\",\n",
        "                     \"population\", \"habitat\"]\n",
        "\n",
        "# 카테고리 변수(색상의 종류 등 숫자의 크고 작음을 결정할 수 없는 것)을 더미 특징량(yes 또는 no)으로 변환\n",
        "mush_data_dummy = pd.get_dummies(\n",
        "    mush_data[[\"gill_color\", \"gill_attachment\", \"odor\", \"cap_color\"]])\n",
        "\n",
        "# 목적 변수: flg(플래그)를 세우기\n",
        "mush_data_dummy[\"flg\"] = mush_data[\"classes\"].map(lambda x: 1 if x == \"p\" else 0)\n",
        "\n",
        "# 설명 변수와 목적 변수를 지정\n",
        "X = mush_data_dummy.drop(\"flg\", axis=1)\n",
        "Y = mush_data_dummy[\"flg\"]\n",
        "\n",
        "# 학습 데이터와 테스트 데이터로 나누기\n",
        "train_X, test_X, train_y, test_y = train_test_split(X,Y, random_state=42)\n",
        "\n",
        "# 문제 - 모델 읽어와서 구축, 학습시키기\n",
        "\n",
        "from sklearn.tree import DecisionTreeClassifier\n",
        "\n",
        "model = DecisionTreeClassifier()\n",
        "\n",
        "model.fit(train_X, train_y)\n",
        "\n",
        "model.score(test_X, test_y)"
      ],
      "metadata": {
        "colab": {
          "base_uri": "https://localhost:8080/"
        },
        "id": "r--n6YcpDNMv",
        "outputId": "d1586e31-7e77-4d31-c8dd-37039c168961"
      },
      "execution_count": 17,
      "outputs": [
        {
          "output_type": "execute_result",
          "data": {
            "text/plain": [
              "0.9094042343673068"
            ]
          },
          "metadata": {},
          "execution_count": 17
        }
      ]
    },
    {
      "cell_type": "markdown",
      "source": [
        "### 16.2.5 랜덤 포레스트\n",
        "\n",
        "- 결정 트리의 단순 버젼을 여러개 만들어 분류 결과를 다수결로 결정하는 앙상블 학습의 일종\n",
        "- 결정 트리에서 독립변수를 모두 사용하는 것과 달리 랜덤 포레스트는 각 결정 트리는 랜덤으로 정해진 소수의 독립변수만 사용해 데이터가 속하는 클래스를 결정한다. 그 후 다수의 간이 결정 트리에서 출력된 클래스 중 가장 많았던 클래스를 결과로 출력한다\n",
        "- 다수의 분류기를 통해 다수결로 결과를 출력하기 때문에 빗나간 값에 의해 예측 결과가 좌우되기 힘들다는 특징이 있다\n",
        "- 단점으로는 결정트리와 같이 독립변수의 수에 대한 데이터수가 적으면 결정 트리가 분할되지 않아서 예측의 정확도가 떨어진다는 것이다"
      ],
      "metadata": {
        "id": "PP7a5BweEN-Z"
      }
    },
    {
      "cell_type": "code",
      "source": [
        "from sklearn.ensemble import RandomForestClassifier\n",
        "\n",
        "\n",
        "data, label = make_classification(n_samples=100, n_classes=2, n_redundant=0, n_features=2, random_state=42)\n",
        "X_train, X_test, y_train, y_test = train_test_split(data, label, random_state=42)\n",
        "\n",
        "model = RandomForestClassifier()\n",
        "\n",
        "model.fit(X_train, y_train)\n",
        "\n",
        "model.score(X_test,y_test)"
      ],
      "metadata": {
        "colab": {
          "base_uri": "https://localhost:8080/"
        },
        "id": "IDhnvM-HD33M",
        "outputId": "7d1a373c-2461-4d3c-a1ea-5aa6bb8731b8"
      },
      "execution_count": 22,
      "outputs": [
        {
          "output_type": "execute_result",
          "data": {
            "text/plain": [
              "0.96"
            ]
          },
          "metadata": {},
          "execution_count": 22
        }
      ]
    },
    {
      "cell_type": "markdown",
      "source": [
        "### 16.2.6 K-NN\n",
        "\n",
        "- k-최근접 이웃 알고리즘\n",
        "- 예측할 데이터와 유사한 데이터 몇개를 찾아내 다수결로 분류결과를 결정하는 방법\n",
        "- 학습 비용이 0이며 알고리즘이 단순한 편이고 높은 예측 정확도가 잘 나오는점, 복잡한 모양의 경계선도 표현하기 쉽다는 장점이 있다\n",
        "- 하지만 분류기로 지정한 자연수 k를 많이 늘리면 식별 범위의 평균화가 진행되어 예측 정확도가 저하되고 지도 및 예측 데이터가 많아지면 계산량이 증가해 느린 알고리즘이 된다는 단점이 있다"
      ],
      "metadata": {
        "id": "NgfLfHhOFSy8"
      }
    },
    {
      "cell_type": "code",
      "source": [
        "from sklearn.neighbors import KNeighborsClassifier\n",
        "\n",
        "data, label = make_classification(n_samples=100, n_classes=2, n_redundant=0, n_features=2, random_state=42)\n",
        "X_train, X_test, y_train, y_test = train_test_split(data, label, random_state=42)\n",
        "\n",
        "model = KNeighborsClassifier()\n",
        "\n",
        "model.fit(X_train, y_train)\n",
        "\n",
        "model.score(X_test,y_test)"
      ],
      "metadata": {
        "colab": {
          "base_uri": "https://localhost:8080/"
        },
        "id": "F9m4RuFtEI0O",
        "outputId": "ceda3297-5018-44df-bd50-595b7601e92c"
      },
      "execution_count": 24,
      "outputs": [
        {
          "output_type": "execute_result",
          "data": {
            "text/plain": [
              "1.0"
            ]
          },
          "metadata": {},
          "execution_count": 24
        }
      ]
    },
    {
      "cell_type": "code",
      "source": [
        "X,y = make_classification(n_samples=1000, n_features=2, n_redundant=0, random_state=0)\n",
        "\n",
        "X_train, X_test, y_train, y_test = train_test_split(X,y, test_size=0.2, random_state=42)\n",
        "\n",
        "model_list = {'로지스틱 회귀' : LogisticRegression(),\n",
        "              '선형 SVM' : LinearSVC(),\n",
        "              '비선형 SVM' : SVC(),\n",
        "              '결정 트리' : DecisionTreeClassifier(),\n",
        "              '랜덤 포레스트' :RandomForestClassifier()}\n",
        "\n",
        "for model_name, model in model_list.items():\n",
        "    # clf = model\n",
        "    model.fit(X_train, y_train)\n",
        "    print(model_name)\n",
        "    acc = model.score(X_test, y_test)\n",
        "    print('정확도 : ' + str(acc))\n",
        "    print()"
      ],
      "metadata": {
        "colab": {
          "base_uri": "https://localhost:8080/"
        },
        "id": "bkTzXECwGec4",
        "outputId": "e8d75057-9006-4d4f-ae76-7d4355a30539"
      },
      "execution_count": 38,
      "outputs": [
        {
          "output_type": "stream",
          "name": "stdout",
          "text": [
            "로지스틱 회귀\n",
            "정확도 : 0.96\n",
            "\n",
            "선형 SVM\n",
            "정확도 : 0.955\n",
            "\n",
            "비선형 SVM\n",
            "정확도 : 0.965\n",
            "\n",
            "결정 트리\n",
            "정확도 : 0.95\n",
            "\n",
            "랜덤 포레스트\n",
            "정확도 : 0.97\n",
            "\n"
          ]
        }
      ]
    },
    {
      "cell_type": "code",
      "source": [],
      "metadata": {
        "id": "fQgxSir-GxqL"
      },
      "execution_count": null,
      "outputs": []
    }
  ]
}